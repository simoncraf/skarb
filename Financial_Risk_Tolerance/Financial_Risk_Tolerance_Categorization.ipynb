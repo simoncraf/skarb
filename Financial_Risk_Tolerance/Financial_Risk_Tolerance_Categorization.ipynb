{
 "cells": [
  {
   "cell_type": "markdown",
   "id": "db862f30",
   "metadata": {
    "id": "nNdE4p8JuWuR"
   },
   "source": [
    "# **Install required packages**"
   ]
  },
  {
   "cell_type": "code",
   "execution_count": null,
   "id": "d8830520",
   "metadata": {},
   "outputs": [],
   "source": [
    "!pip install numpy\n",
    "!pip install plotly\n",
    "!pip install requests\n",
    "!pip install PyPDF2\n",
    "!pip install leap_ec\n",
    "!pip install torch\n",
    "!pip install scikit-learn"
   ]
  },
  {
   "cell_type": "markdown",
   "id": "bb9d53c1",
   "metadata": {
    "id": "nNdE4p8JuWuR"
   },
   "source": [
    "# **Imports**\n"
   ]
  },
  {
   "cell_type": "code",
   "execution_count": 2,
   "id": "c2abffab",
   "metadata": {},
   "outputs": [],
   "source": [
    "import pandas as pd\n",
    "import numpy as np\n",
    "import seaborn as sn\n",
    "import matplotlib.pyplot as plt\n",
    "import torch\n",
    "import sklearn\n",
    "import os\n",
    "from sklearn.model_selection import train_test_split\n",
    "from sklearn.preprocessing import StandardScaler\n",
    "from sklearn.preprocessing import RobustScaler\n",
    "from sklearn.preprocessing import MinMaxScaler\n",
    "from sklearn.linear_model import LinearRegression\n",
    "from sklearn.metrics import mean_squared_error\n",
    "import plotly.graph_objects as go\n",
    "import plotly.express as px"
   ]
  },
  {
   "cell_type": "markdown",
   "id": "839cbc97",
   "metadata": {},
   "source": [
    "# **URL of the dataset**\n",
    "The final preprocessed dataset is in the \"final_dataset\" folder of my github repository"
   ]
  },
  {
   "cell_type": "code",
   "execution_count": 44,
   "id": "78dd6d6f",
   "metadata": {},
   "outputs": [],
   "source": [
    "#2017\n",
    "url_dataset_2017 = 'https://raw.githubusercontent.com/simoncraf/tfg/main/final_dataset/df_2017.csv'\n",
    "df = pd.read_csv(url_dataset_2017)"
   ]
  },
  {
   "cell_type": "code",
   "execution_count": 45,
   "id": "eb4d9913",
   "metadata": {},
   "outputs": [
    {
     "data": {
      "text/html": [
       "<div>\n",
       "<style scoped>\n",
       "    .dataframe tbody tr th:only-of-type {\n",
       "        vertical-align: middle;\n",
       "    }\n",
       "\n",
       "    .dataframe tbody tr th {\n",
       "        vertical-align: top;\n",
       "    }\n",
       "\n",
       "    .dataframe thead th {\n",
       "        text-align: right;\n",
       "    }\n",
       "</style>\n",
       "<table border=\"1\" class=\"dataframe\">\n",
       "  <thead>\n",
       "    <tr style=\"text-align: right;\">\n",
       "      <th></th>\n",
       "      <th>age</th>\n",
       "      <th>married</th>\n",
       "      <th>education</th>\n",
       "      <th>value_main_house</th>\n",
       "      <th>future_expenses</th>\n",
       "      <th>%_spend_future_win</th>\n",
       "      <th>risk</th>\n",
       "      <th>tot_amm_year_retirement_plans</th>\n",
       "      <th>tot_value_retirement_plans</th>\n",
       "      <th>tot_income_month</th>\n",
       "      <th>tot_loans_rest</th>\n",
       "      <th>tot_amm_acc</th>\n",
       "      <th>port_inv_val</th>\n",
       "      <th>ann_inv_income</th>\n",
       "      <th>monthly_expenses</th>\n",
       "    </tr>\n",
       "  </thead>\n",
       "  <tbody>\n",
       "    <tr>\n",
       "      <th>0</th>\n",
       "      <td>73.0</td>\n",
       "      <td>6.0</td>\n",
       "      <td>2.0</td>\n",
       "      <td>150000.0</td>\n",
       "      <td>3.0</td>\n",
       "      <td>0.0</td>\n",
       "      <td>4.0</td>\n",
       "      <td>360.0</td>\n",
       "      <td>15000.0</td>\n",
       "      <td>637.0</td>\n",
       "      <td>0.0</td>\n",
       "      <td>0.0</td>\n",
       "      <td>0.0</td>\n",
       "      <td>0.0</td>\n",
       "      <td>487.0</td>\n",
       "    </tr>\n",
       "    <tr>\n",
       "      <th>1</th>\n",
       "      <td>74.0</td>\n",
       "      <td>2.0</td>\n",
       "      <td>4.0</td>\n",
       "      <td>300000.0</td>\n",
       "      <td>3.0</td>\n",
       "      <td>0.0</td>\n",
       "      <td>4.0</td>\n",
       "      <td>360.0</td>\n",
       "      <td>15000.0</td>\n",
       "      <td>1076.0</td>\n",
       "      <td>0.0</td>\n",
       "      <td>30000.0</td>\n",
       "      <td>0.0</td>\n",
       "      <td>0.0</td>\n",
       "      <td>3000.0</td>\n",
       "    </tr>\n",
       "    <tr>\n",
       "      <th>2</th>\n",
       "      <td>74.0</td>\n",
       "      <td>6.0</td>\n",
       "      <td>4.0</td>\n",
       "      <td>300000.0</td>\n",
       "      <td>3.0</td>\n",
       "      <td>99.0</td>\n",
       "      <td>4.0</td>\n",
       "      <td>360.0</td>\n",
       "      <td>15000.0</td>\n",
       "      <td>1000.0</td>\n",
       "      <td>0.0</td>\n",
       "      <td>5000.0</td>\n",
       "      <td>160597.0</td>\n",
       "      <td>0.0</td>\n",
       "      <td>600.0</td>\n",
       "    </tr>\n",
       "    <tr>\n",
       "      <th>3</th>\n",
       "      <td>65.0</td>\n",
       "      <td>2.0</td>\n",
       "      <td>11.0</td>\n",
       "      <td>124339.0</td>\n",
       "      <td>2.0</td>\n",
       "      <td>0.0</td>\n",
       "      <td>4.0</td>\n",
       "      <td>360.0</td>\n",
       "      <td>15000.0</td>\n",
       "      <td>2012.0</td>\n",
       "      <td>0.0</td>\n",
       "      <td>400.0</td>\n",
       "      <td>10000.0</td>\n",
       "      <td>250.0</td>\n",
       "      <td>1700.0</td>\n",
       "    </tr>\n",
       "    <tr>\n",
       "      <th>4</th>\n",
       "      <td>76.0</td>\n",
       "      <td>2.0</td>\n",
       "      <td>2.0</td>\n",
       "      <td>311529.0</td>\n",
       "      <td>3.0</td>\n",
       "      <td>100.0</td>\n",
       "      <td>4.0</td>\n",
       "      <td>17500.0</td>\n",
       "      <td>150000.0</td>\n",
       "      <td>16667.0</td>\n",
       "      <td>0.0</td>\n",
       "      <td>1000000.0</td>\n",
       "      <td>2000000.0</td>\n",
       "      <td>500.0</td>\n",
       "      <td>10000.0</td>\n",
       "    </tr>\n",
       "    <tr>\n",
       "      <th>...</th>\n",
       "      <td>...</td>\n",
       "      <td>...</td>\n",
       "      <td>...</td>\n",
       "      <td>...</td>\n",
       "      <td>...</td>\n",
       "      <td>...</td>\n",
       "      <td>...</td>\n",
       "      <td>...</td>\n",
       "      <td>...</td>\n",
       "      <td>...</td>\n",
       "      <td>...</td>\n",
       "      <td>...</td>\n",
       "      <td>...</td>\n",
       "      <td>...</td>\n",
       "      <td>...</td>\n",
       "    </tr>\n",
       "    <tr>\n",
       "      <th>6408</th>\n",
       "      <td>45.0</td>\n",
       "      <td>4.0</td>\n",
       "      <td>11.0</td>\n",
       "      <td>84000.0</td>\n",
       "      <td>3.0</td>\n",
       "      <td>70.0</td>\n",
       "      <td>3.0</td>\n",
       "      <td>250.0</td>\n",
       "      <td>1701.0</td>\n",
       "      <td>2300.0</td>\n",
       "      <td>31539.0</td>\n",
       "      <td>3000.0</td>\n",
       "      <td>160597.0</td>\n",
       "      <td>0.0</td>\n",
       "      <td>1222.0</td>\n",
       "    </tr>\n",
       "    <tr>\n",
       "      <th>6409</th>\n",
       "      <td>49.0</td>\n",
       "      <td>2.0</td>\n",
       "      <td>11.0</td>\n",
       "      <td>1000000.0</td>\n",
       "      <td>1.0</td>\n",
       "      <td>100.0</td>\n",
       "      <td>4.0</td>\n",
       "      <td>8000.0</td>\n",
       "      <td>90000.0</td>\n",
       "      <td>7422.0</td>\n",
       "      <td>0.0</td>\n",
       "      <td>70000.0</td>\n",
       "      <td>600000.0</td>\n",
       "      <td>4000.0</td>\n",
       "      <td>3000.0</td>\n",
       "    </tr>\n",
       "    <tr>\n",
       "      <th>6410</th>\n",
       "      <td>47.0</td>\n",
       "      <td>2.0</td>\n",
       "      <td>11.0</td>\n",
       "      <td>600000.0</td>\n",
       "      <td>3.0</td>\n",
       "      <td>0.0</td>\n",
       "      <td>3.0</td>\n",
       "      <td>5300.0</td>\n",
       "      <td>40000.0</td>\n",
       "      <td>41667.0</td>\n",
       "      <td>250000.0</td>\n",
       "      <td>100000.0</td>\n",
       "      <td>800.0</td>\n",
       "      <td>0.0</td>\n",
       "      <td>4500.0</td>\n",
       "    </tr>\n",
       "    <tr>\n",
       "      <th>6411</th>\n",
       "      <td>73.0</td>\n",
       "      <td>2.0</td>\n",
       "      <td>10.0</td>\n",
       "      <td>150000.0</td>\n",
       "      <td>3.0</td>\n",
       "      <td>50.0</td>\n",
       "      <td>4.0</td>\n",
       "      <td>360.0</td>\n",
       "      <td>15000.0</td>\n",
       "      <td>1840.0</td>\n",
       "      <td>8000.0</td>\n",
       "      <td>4200.0</td>\n",
       "      <td>4.0</td>\n",
       "      <td>0.0</td>\n",
       "      <td>1014.0</td>\n",
       "    </tr>\n",
       "    <tr>\n",
       "      <th>6412</th>\n",
       "      <td>79.0</td>\n",
       "      <td>2.0</td>\n",
       "      <td>2.0</td>\n",
       "      <td>540911.0</td>\n",
       "      <td>3.0</td>\n",
       "      <td>100.0</td>\n",
       "      <td>3.0</td>\n",
       "      <td>360.0</td>\n",
       "      <td>15000.0</td>\n",
       "      <td>1870.0</td>\n",
       "      <td>25704.0</td>\n",
       "      <td>10000.0</td>\n",
       "      <td>499414.0</td>\n",
       "      <td>205.0</td>\n",
       "      <td>2184.0</td>\n",
       "    </tr>\n",
       "  </tbody>\n",
       "</table>\n",
       "<p>6413 rows × 15 columns</p>\n",
       "</div>"
      ],
      "text/plain": [
       "       age  married  education  value_main_house  future_expenses  \\\n",
       "0     73.0      6.0        2.0          150000.0              3.0   \n",
       "1     74.0      2.0        4.0          300000.0              3.0   \n",
       "2     74.0      6.0        4.0          300000.0              3.0   \n",
       "3     65.0      2.0       11.0          124339.0              2.0   \n",
       "4     76.0      2.0        2.0          311529.0              3.0   \n",
       "...    ...      ...        ...               ...              ...   \n",
       "6408  45.0      4.0       11.0           84000.0              3.0   \n",
       "6409  49.0      2.0       11.0         1000000.0              1.0   \n",
       "6410  47.0      2.0       11.0          600000.0              3.0   \n",
       "6411  73.0      2.0       10.0          150000.0              3.0   \n",
       "6412  79.0      2.0        2.0          540911.0              3.0   \n",
       "\n",
       "      %_spend_future_win  risk  tot_amm_year_retirement_plans  \\\n",
       "0                    0.0   4.0                          360.0   \n",
       "1                    0.0   4.0                          360.0   \n",
       "2                   99.0   4.0                          360.0   \n",
       "3                    0.0   4.0                          360.0   \n",
       "4                  100.0   4.0                        17500.0   \n",
       "...                  ...   ...                            ...   \n",
       "6408                70.0   3.0                          250.0   \n",
       "6409               100.0   4.0                         8000.0   \n",
       "6410                 0.0   3.0                         5300.0   \n",
       "6411                50.0   4.0                          360.0   \n",
       "6412               100.0   3.0                          360.0   \n",
       "\n",
       "      tot_value_retirement_plans  tot_income_month  tot_loans_rest  \\\n",
       "0                        15000.0             637.0             0.0   \n",
       "1                        15000.0            1076.0             0.0   \n",
       "2                        15000.0            1000.0             0.0   \n",
       "3                        15000.0            2012.0             0.0   \n",
       "4                       150000.0           16667.0             0.0   \n",
       "...                          ...               ...             ...   \n",
       "6408                      1701.0            2300.0         31539.0   \n",
       "6409                     90000.0            7422.0             0.0   \n",
       "6410                     40000.0           41667.0        250000.0   \n",
       "6411                     15000.0            1840.0          8000.0   \n",
       "6412                     15000.0            1870.0         25704.0   \n",
       "\n",
       "      tot_amm_acc  port_inv_val  ann_inv_income  monthly_expenses  \n",
       "0             0.0           0.0             0.0             487.0  \n",
       "1         30000.0           0.0             0.0            3000.0  \n",
       "2          5000.0      160597.0             0.0             600.0  \n",
       "3           400.0       10000.0           250.0            1700.0  \n",
       "4       1000000.0     2000000.0           500.0           10000.0  \n",
       "...           ...           ...             ...               ...  \n",
       "6408       3000.0      160597.0             0.0            1222.0  \n",
       "6409      70000.0      600000.0          4000.0            3000.0  \n",
       "6410     100000.0         800.0             0.0            4500.0  \n",
       "6411       4200.0           4.0             0.0            1014.0  \n",
       "6412      10000.0      499414.0           205.0            2184.0  \n",
       "\n",
       "[6413 rows x 15 columns]"
      ]
     },
     "execution_count": 45,
     "metadata": {},
     "output_type": "execute_result"
    }
   ],
   "source": [
    "df = df.drop(columns = 'gender')\n",
    "df"
   ]
  },
  {
   "cell_type": "markdown",
   "id": "5e808460",
   "metadata": {},
   "source": [
    "# **Categorization**"
   ]
  },
  {
   "cell_type": "code",
   "execution_count": 46,
   "id": "a2ac012a",
   "metadata": {},
   "outputs": [
    {
     "data": {
      "text/html": [
       "<div>\n",
       "<style scoped>\n",
       "    .dataframe tbody tr th:only-of-type {\n",
       "        vertical-align: middle;\n",
       "    }\n",
       "\n",
       "    .dataframe tbody tr th {\n",
       "        vertical-align: top;\n",
       "    }\n",
       "\n",
       "    .dataframe thead th {\n",
       "        text-align: right;\n",
       "    }\n",
       "</style>\n",
       "<table border=\"1\" class=\"dataframe\">\n",
       "  <thead>\n",
       "    <tr style=\"text-align: right;\">\n",
       "      <th></th>\n",
       "      <th>age</th>\n",
       "      <th>married</th>\n",
       "      <th>education</th>\n",
       "      <th>value_main_house</th>\n",
       "      <th>future_expenses</th>\n",
       "      <th>%_spend_future_win</th>\n",
       "      <th>risk</th>\n",
       "      <th>tot_amm_year_retirement_plans</th>\n",
       "      <th>tot_value_retirement_plans</th>\n",
       "      <th>tot_income_month</th>\n",
       "      <th>tot_loans_rest</th>\n",
       "      <th>tot_amm_acc</th>\n",
       "      <th>port_inv_val</th>\n",
       "      <th>ann_inv_income</th>\n",
       "      <th>monthly_expenses</th>\n",
       "    </tr>\n",
       "  </thead>\n",
       "  <tbody>\n",
       "    <tr>\n",
       "      <th>count</th>\n",
       "      <td>6413.000000</td>\n",
       "      <td>6413.000000</td>\n",
       "      <td>6413.000000</td>\n",
       "      <td>6.413000e+03</td>\n",
       "      <td>6413.000000</td>\n",
       "      <td>6413.000000</td>\n",
       "      <td>6413.000000</td>\n",
       "      <td>6413.000000</td>\n",
       "      <td>6413.000000</td>\n",
       "      <td>6413.000000</td>\n",
       "      <td>6.413000e+03</td>\n",
       "      <td>6.413000e+03</td>\n",
       "      <td>6.413000e+03</td>\n",
       "      <td>6.413000e+03</td>\n",
       "      <td>6413.000000</td>\n",
       "    </tr>\n",
       "    <tr>\n",
       "      <th>mean</th>\n",
       "      <td>59.854046</td>\n",
       "      <td>2.606424</td>\n",
       "      <td>6.689069</td>\n",
       "      <td>2.461210e+05</td>\n",
       "      <td>2.110245</td>\n",
       "      <td>43.075472</td>\n",
       "      <td>3.717449</td>\n",
       "      <td>658.999634</td>\n",
       "      <td>22887.300154</td>\n",
       "      <td>1715.329955</td>\n",
       "      <td>3.389665e+04</td>\n",
       "      <td>4.455810e+04</td>\n",
       "      <td>4.333574e+05</td>\n",
       "      <td>9.034366e+03</td>\n",
       "      <td>1851.200073</td>\n",
       "    </tr>\n",
       "    <tr>\n",
       "      <th>std</th>\n",
       "      <td>14.870828</td>\n",
       "      <td>1.561917</td>\n",
       "      <td>3.680257</td>\n",
       "      <td>3.829487e+05</td>\n",
       "      <td>0.932957</td>\n",
       "      <td>39.400533</td>\n",
       "      <td>0.554854</td>\n",
       "      <td>1584.558091</td>\n",
       "      <td>42700.440096</td>\n",
       "      <td>2935.584894</td>\n",
       "      <td>1.710698e+05</td>\n",
       "      <td>2.568807e+05</td>\n",
       "      <td>6.968526e+06</td>\n",
       "      <td>2.222844e+05</td>\n",
       "      <td>1937.142293</td>\n",
       "    </tr>\n",
       "    <tr>\n",
       "      <th>min</th>\n",
       "      <td>19.000000</td>\n",
       "      <td>1.000000</td>\n",
       "      <td>1.000000</td>\n",
       "      <td>0.000000e+00</td>\n",
       "      <td>1.000000</td>\n",
       "      <td>0.000000</td>\n",
       "      <td>1.000000</td>\n",
       "      <td>0.000000</td>\n",
       "      <td>20.000000</td>\n",
       "      <td>0.000000</td>\n",
       "      <td>0.000000e+00</td>\n",
       "      <td>0.000000e+00</td>\n",
       "      <td>0.000000e+00</td>\n",
       "      <td>0.000000e+00</td>\n",
       "      <td>64.000000</td>\n",
       "    </tr>\n",
       "    <tr>\n",
       "      <th>25%</th>\n",
       "      <td>49.000000</td>\n",
       "      <td>2.000000</td>\n",
       "      <td>3.000000</td>\n",
       "      <td>6.000000e+04</td>\n",
       "      <td>1.000000</td>\n",
       "      <td>0.000000</td>\n",
       "      <td>4.000000</td>\n",
       "      <td>360.000000</td>\n",
       "      <td>15000.000000</td>\n",
       "      <td>564.000000</td>\n",
       "      <td>0.000000e+00</td>\n",
       "      <td>1.500000e+03</td>\n",
       "      <td>0.000000e+00</td>\n",
       "      <td>0.000000e+00</td>\n",
       "      <td>900.000000</td>\n",
       "    </tr>\n",
       "    <tr>\n",
       "      <th>50%</th>\n",
       "      <td>60.000000</td>\n",
       "      <td>2.000000</td>\n",
       "      <td>6.000000</td>\n",
       "      <td>1.500000e+05</td>\n",
       "      <td>2.000000</td>\n",
       "      <td>50.000000</td>\n",
       "      <td>4.000000</td>\n",
       "      <td>360.000000</td>\n",
       "      <td>15000.000000</td>\n",
       "      <td>1300.000000</td>\n",
       "      <td>0.000000e+00</td>\n",
       "      <td>8.000000e+03</td>\n",
       "      <td>0.000000e+00</td>\n",
       "      <td>0.000000e+00</td>\n",
       "      <td>1360.000000</td>\n",
       "    </tr>\n",
       "    <tr>\n",
       "      <th>75%</th>\n",
       "      <td>72.000000</td>\n",
       "      <td>2.000000</td>\n",
       "      <td>11.000000</td>\n",
       "      <td>3.000000e+05</td>\n",
       "      <td>3.000000</td>\n",
       "      <td>100.000000</td>\n",
       "      <td>4.000000</td>\n",
       "      <td>360.000000</td>\n",
       "      <td>15000.000000</td>\n",
       "      <td>2293.000000</td>\n",
       "      <td>1.531800e+04</td>\n",
       "      <td>3.000000e+04</td>\n",
       "      <td>3.700000e+04</td>\n",
       "      <td>0.000000e+00</td>\n",
       "      <td>2100.000000</td>\n",
       "    </tr>\n",
       "    <tr>\n",
       "      <th>max</th>\n",
       "      <td>85.000000</td>\n",
       "      <td>6.000000</td>\n",
       "      <td>14.000000</td>\n",
       "      <td>7.000000e+06</td>\n",
       "      <td>3.000000</td>\n",
       "      <td>100.000000</td>\n",
       "      <td>4.000000</td>\n",
       "      <td>64000.000000</td>\n",
       "      <td>1000000.000000</td>\n",
       "      <td>90000.000000</td>\n",
       "      <td>6.689426e+06</td>\n",
       "      <td>1.500000e+07</td>\n",
       "      <td>3.760000e+08</td>\n",
       "      <td>1.260000e+07</td>\n",
       "      <td>36442.000000</td>\n",
       "    </tr>\n",
       "  </tbody>\n",
       "</table>\n",
       "</div>"
      ],
      "text/plain": [
       "               age      married    education  value_main_house  \\\n",
       "count  6413.000000  6413.000000  6413.000000      6.413000e+03   \n",
       "mean     59.854046     2.606424     6.689069      2.461210e+05   \n",
       "std      14.870828     1.561917     3.680257      3.829487e+05   \n",
       "min      19.000000     1.000000     1.000000      0.000000e+00   \n",
       "25%      49.000000     2.000000     3.000000      6.000000e+04   \n",
       "50%      60.000000     2.000000     6.000000      1.500000e+05   \n",
       "75%      72.000000     2.000000    11.000000      3.000000e+05   \n",
       "max      85.000000     6.000000    14.000000      7.000000e+06   \n",
       "\n",
       "       future_expenses  %_spend_future_win         risk  \\\n",
       "count      6413.000000         6413.000000  6413.000000   \n",
       "mean          2.110245           43.075472     3.717449   \n",
       "std           0.932957           39.400533     0.554854   \n",
       "min           1.000000            0.000000     1.000000   \n",
       "25%           1.000000            0.000000     4.000000   \n",
       "50%           2.000000           50.000000     4.000000   \n",
       "75%           3.000000          100.000000     4.000000   \n",
       "max           3.000000          100.000000     4.000000   \n",
       "\n",
       "       tot_amm_year_retirement_plans  tot_value_retirement_plans  \\\n",
       "count                    6413.000000                 6413.000000   \n",
       "mean                      658.999634                22887.300154   \n",
       "std                      1584.558091                42700.440096   \n",
       "min                         0.000000                   20.000000   \n",
       "25%                       360.000000                15000.000000   \n",
       "50%                       360.000000                15000.000000   \n",
       "75%                       360.000000                15000.000000   \n",
       "max                     64000.000000              1000000.000000   \n",
       "\n",
       "       tot_income_month  tot_loans_rest   tot_amm_acc  port_inv_val  \\\n",
       "count       6413.000000    6.413000e+03  6.413000e+03  6.413000e+03   \n",
       "mean        1715.329955    3.389665e+04  4.455810e+04  4.333574e+05   \n",
       "std         2935.584894    1.710698e+05  2.568807e+05  6.968526e+06   \n",
       "min            0.000000    0.000000e+00  0.000000e+00  0.000000e+00   \n",
       "25%          564.000000    0.000000e+00  1.500000e+03  0.000000e+00   \n",
       "50%         1300.000000    0.000000e+00  8.000000e+03  0.000000e+00   \n",
       "75%         2293.000000    1.531800e+04  3.000000e+04  3.700000e+04   \n",
       "max        90000.000000    6.689426e+06  1.500000e+07  3.760000e+08   \n",
       "\n",
       "       ann_inv_income  monthly_expenses  \n",
       "count    6.413000e+03       6413.000000  \n",
       "mean     9.034366e+03       1851.200073  \n",
       "std      2.222844e+05       1937.142293  \n",
       "min      0.000000e+00         64.000000  \n",
       "25%      0.000000e+00        900.000000  \n",
       "50%      0.000000e+00       1360.000000  \n",
       "75%      0.000000e+00       2100.000000  \n",
       "max      1.260000e+07      36442.000000  "
      ]
     },
     "execution_count": 46,
     "metadata": {},
     "output_type": "execute_result"
    }
   ],
   "source": [
    "df.describe()"
   ]
  },
  {
   "cell_type": "code",
   "execution_count": 47,
   "id": "eced17f0",
   "metadata": {},
   "outputs": [],
   "source": [
    "def plot_distribution(col):\n",
    "    \n",
    "    field = df[col]\n",
    "    min_field = int(field.min())\n",
    "    max_field = int(field.max())\n",
    "    range_field = list(range(min_field, max_field))\n",
    "    \n",
    "    field_counts = field.value_counts().sort_values(axis = 'index')\n",
    "    field_counts = pd.DataFrame(field_counts)\n",
    "    field_counts = field_counts.reset_index()\n",
    "    field_counts['appearances'] = field_counts[col]\n",
    "    field_counts[col] = field_counts['index']\n",
    "    field_counts.drop(labels = 'index', axis=1, inplace=True)\n",
    "    field_counts = field_counts.sort_values(by=[col])\n",
    "    \n",
    "    fig = plt.figure(figsize = (10,5))\n",
    "    ax = fig.add_axes([0,0,1,1])\n",
    "    ax.bar(field_counts[col],field_counts['appearances'])\n",
    "    plt.show()\n",
    "\n",
    "    print('MAX: \\n',field_counts.max(),'\\n')\n",
    "    print('MIN: \\n',field_counts.min(),'\\n')"
   ]
  },
  {
   "cell_type": "markdown",
   "id": "595fd212",
   "metadata": {},
   "source": [
    "# *Age*"
   ]
  },
  {
   "cell_type": "code",
   "execution_count": 48,
   "id": "075c1a00",
   "metadata": {},
   "outputs": [
    {
     "data": {
      "image/png": "[encoded data removed]",
      "text/plain": [
       "<Figure size 720x360 with 1 Axes>"
      ]
     },
     "metadata": {
      "needs_background": "light"
     },
     "output_type": "display_data"
    },
    {
     "name": "stdout",
     "output_type": "stream",
     "text": [
      "MAX: \n",
      " age             85.0\n",
      "appearances    271.0\n",
      "dtype: float64 \n",
      "\n",
      "MIN: \n",
      " age            19.0\n",
      "appearances     2.0\n",
      "dtype: float64 \n",
      "\n"
     ]
    }
   ],
   "source": [
    "plot_distribution('age')"
   ]
  },
  {
   "cell_type": "code",
   "execution_count": 49,
   "id": "d7069050",
   "metadata": {},
   "outputs": [],
   "source": [
    "df['age'].loc[df['age'] < 25] = 1 \n",
    "df['age'].loc[(df['age'] >= 25) & (df['age'] < 35)] = 2\n",
    "df['age'].loc[(df['age'] >= 35) & (df['age'] < 45)] = 3\n",
    "df['age'].loc[(df['age'] >= 45) & (df['age'] < 55)] = 4\n",
    "df['age'].loc[(df['age'] >= 55) & (df['age'] < 65)] = 5\n",
    "df['age'].loc[(df['age'] >= 65) & (df['age'] < 75)] = 6\n",
    "df['age'].loc[df['age'] >= 75] = 7"
   ]
  },
  {
   "cell_type": "code",
   "execution_count": 50,
   "id": "44d6f225",
   "metadata": {},
   "outputs": [
    {
     "data": {
      "text/plain": [
       "count    6413.000000\n",
       "mean        5.002807\n",
       "std         1.465019\n",
       "min         1.000000\n",
       "25%         4.000000\n",
       "50%         5.000000\n",
       "75%         6.000000\n",
       "max         7.000000\n",
       "Name: age, dtype: float64"
      ]
     },
     "execution_count": 50,
     "metadata": {},
     "output_type": "execute_result"
    }
   ],
   "source": [
    "df['age'].describe()"
   ]
  },
  {
   "cell_type": "markdown",
   "id": "61449acb",
   "metadata": {},
   "source": [
    "# *Value Main House*"
   ]
  },
  {
   "cell_type": "code",
   "execution_count": 51,
   "id": "9e83bdf4",
   "metadata": {},
   "outputs": [],
   "source": [
    "df['value_main_house'].loc[df['value_main_house'] == 0] = 0\n",
    "df['value_main_house'].loc[(df['value_main_house'] > 0) & (df['value_main_house'] < 50000)] = 1\n",
    "df['value_main_house'].loc[(df['value_main_house'] >= 50000) & (df['value_main_house'] < 100000)] = 2\n",
    "df['value_main_house'].loc[(df['value_main_house'] >= 100000) & (df['value_main_house'] < 200000)] = 3\n",
    "df['value_main_house'].loc[(df['value_main_house'] >= 200000) & (df['value_main_house'] < 300000)] = 4\n",
    "df['value_main_house'].loc[(df['value_main_house'] >= 300000) & (df['value_main_house'] < 500000)] = 5\n",
    "df['value_main_house'].loc[df['value_main_house'] >= 500000] = 6"
   ]
  },
  {
   "cell_type": "code",
   "execution_count": 52,
   "id": "d21de9c0",
   "metadata": {},
   "outputs": [
    {
     "data": {
      "text/plain": [
       "count    6413.000000\n",
       "mean        3.018088\n",
       "std         1.922058\n",
       "min         0.000000\n",
       "25%         2.000000\n",
       "50%         3.000000\n",
       "75%         5.000000\n",
       "max         6.000000\n",
       "Name: value_main_house, dtype: float64"
      ]
     },
     "execution_count": 52,
     "metadata": {},
     "output_type": "execute_result"
    }
   ],
   "source": [
    "df['value_main_house'].describe()"
   ]
  },
  {
   "cell_type": "code",
   "execution_count": 53,
   "id": "6511461d",
   "metadata": {},
   "outputs": [
    {
     "data": {
      "image/png": "[encoded data removed]",
      "text/plain": [
       "<Figure size 720x360 with 1 Axes>"
      ]
     },
     "metadata": {
      "needs_background": "light"
     },
     "output_type": "display_data"
    },
    {
     "name": "stdout",
     "output_type": "stream",
     "text": [
      "MAX: \n",
      " value_main_house       6.0\n",
      "appearances         1698.0\n",
      "dtype: float64 \n",
      "\n",
      "MIN: \n",
      " value_main_house      0.0\n",
      "appearances         255.0\n",
      "dtype: float64 \n",
      "\n"
     ]
    }
   ],
   "source": [
    "plot_distribution('value_main_house')"
   ]
  },
  {
   "cell_type": "markdown",
   "id": "6fbaae9c",
   "metadata": {},
   "source": [
    "# *% Spend Future Win* "
   ]
  },
  {
   "cell_type": "code",
   "execution_count": 54,
   "id": "e26f2103",
   "metadata": {},
   "outputs": [
    {
     "data": {
      "image/png": "[encoded data removed]",
      "text/plain": [
       "<Figure size 720x360 with 1 Axes>"
      ]
     },
     "metadata": {
      "needs_background": "light"
     },
     "output_type": "display_data"
    },
    {
     "name": "stdout",
     "output_type": "stream",
     "text": [
      "MAX: \n",
      " %_spend_future_win     100.0\n",
      "appearances           2078.0\n",
      "dtype: float64 \n",
      "\n",
      "MIN: \n",
      " %_spend_future_win    0.0\n",
      "appearances           1.0\n",
      "dtype: float64 \n",
      "\n"
     ]
    }
   ],
   "source": [
    "plot_distribution('%_spend_future_win')"
   ]
  },
  {
   "cell_type": "code",
   "execution_count": 55,
   "id": "46c2e2d9",
   "metadata": {},
   "outputs": [],
   "source": [
    "df['%_spend_future_win'].loc[df['%_spend_future_win'] <= 1] = 1 \n",
    "df['%_spend_future_win'].loc[(df['%_spend_future_win'] > 1) & (df['%_spend_future_win'] < 25)] = 2\n",
    "df['%_spend_future_win'].loc[(df['%_spend_future_win'] >= 25) & (df['%_spend_future_win'] < 50)] = 3\n",
    "df['%_spend_future_win'].loc[(df['%_spend_future_win'] >= 50) & (df['%_spend_future_win'] < 75)] = 4\n",
    "df['%_spend_future_win'].loc[df['%_spend_future_win'] >= 75] = 5"
   ]
  },
  {
   "cell_type": "code",
   "execution_count": 56,
   "id": "a3efeccb",
   "metadata": {},
   "outputs": [
    {
     "data": {
      "image/png": "[encoded data removed]",
      "text/plain": [
       "<Figure size 720x360 with 1 Axes>"
      ]
     },
     "metadata": {
      "needs_background": "light"
     },
     "output_type": "display_data"
    },
    {
     "name": "stdout",
     "output_type": "stream",
     "text": [
      "MAX: \n",
      " %_spend_future_win       5.0\n",
      "appearances           2084.0\n",
      "dtype: float64 \n",
      "\n",
      "MIN: \n",
      " %_spend_future_win      1.0\n",
      "appearances           518.0\n",
      "dtype: float64 \n",
      "\n"
     ]
    }
   ],
   "source": [
    "plot_distribution('%_spend_future_win')"
   ]
  },
  {
   "cell_type": "markdown",
   "id": "c2105ebd",
   "metadata": {},
   "source": [
    "# *Annual Contribution to Retirement Plans*"
   ]
  },
  {
   "cell_type": "code",
   "execution_count": 57,
   "id": "141bd1f1",
   "metadata": {},
   "outputs": [
    {
     "data": {
      "text/plain": [
       "count     6413.000000\n",
       "mean       658.999634\n",
       "std       1584.558091\n",
       "min          0.000000\n",
       "25%        360.000000\n",
       "50%        360.000000\n",
       "75%        360.000000\n",
       "max      64000.000000\n",
       "Name: tot_amm_year_retirement_plans, dtype: float64"
      ]
     },
     "execution_count": 57,
     "metadata": {},
     "output_type": "execute_result"
    }
   ],
   "source": [
    "df['tot_amm_year_retirement_plans'].describe()"
   ]
  },
  {
   "cell_type": "code",
   "execution_count": 58,
   "id": "4574eddd",
   "metadata": {},
   "outputs": [],
   "source": [
    "df['tot_amm_year_retirement_plans'].loc[df['tot_amm_year_retirement_plans'] == 0] = 0\n",
    "df['tot_amm_year_retirement_plans'].loc[(df['tot_amm_year_retirement_plans'] > 0) & (df['tot_amm_year_retirement_plans'] < 500)] = 1\n",
    "df['tot_amm_year_retirement_plans'].loc[(df['tot_amm_year_retirement_plans'] >= 500) & (df['tot_amm_year_retirement_plans'] < 1000)] = 2\n",
    "df['tot_amm_year_retirement_plans'].loc[(df['tot_amm_year_retirement_plans'] >= 1000) & (df['tot_amm_year_retirement_plans'] < 2000)] = 3\n",
    "df['tot_amm_year_retirement_plans'].loc[(df['tot_amm_year_retirement_plans'] >= 2000) & (df['tot_amm_year_retirement_plans'] < 3000)] = 4\n",
    "df['tot_amm_year_retirement_plans'].loc[df['tot_amm_year_retirement_plans'] >= 3000] = 5"
   ]
  },
  {
   "cell_type": "code",
   "execution_count": 59,
   "id": "2794fd86",
   "metadata": {},
   "outputs": [
    {
     "data": {
      "image/png": "[encoded data removed]",
      "text/plain": [
       "<Figure size 720x360 with 1 Axes>"
      ]
     },
     "metadata": {
      "needs_background": "light"
     },
     "output_type": "display_data"
    },
    {
     "name": "stdout",
     "output_type": "stream",
     "text": [
      "MAX: \n",
      " tot_amm_year_retirement_plans       5.0\n",
      "appearances                      4803.0\n",
      "dtype: float64 \n",
      "\n",
      "MIN: \n",
      " tot_amm_year_retirement_plans      0.0\n",
      "appearances                      114.0\n",
      "dtype: float64 \n",
      "\n"
     ]
    }
   ],
   "source": [
    "plot_distribution('tot_amm_year_retirement_plans')"
   ]
  },
  {
   "cell_type": "markdown",
   "id": "34ed41fa",
   "metadata": {},
   "source": [
    "# *Total value retirement plans*"
   ]
  },
  {
   "cell_type": "code",
   "execution_count": 60,
   "id": "2373b9b5",
   "metadata": {},
   "outputs": [
    {
     "data": {
      "text/plain": [
       "count       6413.000000\n",
       "mean       22887.300154\n",
       "std        42700.440096\n",
       "min           20.000000\n",
       "25%        15000.000000\n",
       "50%        15000.000000\n",
       "75%        15000.000000\n",
       "max      1000000.000000\n",
       "Name: tot_value_retirement_plans, dtype: float64"
      ]
     },
     "execution_count": 60,
     "metadata": {},
     "output_type": "execute_result"
    }
   ],
   "source": [
    "df['tot_value_retirement_plans'].describe()"
   ]
  },
  {
   "cell_type": "code",
   "execution_count": 61,
   "id": "fd6c7c57",
   "metadata": {},
   "outputs": [],
   "source": [
    "df['tot_value_retirement_plans'].loc[df['tot_value_retirement_plans'] == 0] = 0\n",
    "df['tot_value_retirement_plans'].loc[(df['tot_value_retirement_plans'] > 0) & (df['tot_value_retirement_plans'] < 5000)] = 1\n",
    "df['tot_value_retirement_plans'].loc[(df['tot_value_retirement_plans'] >= 5000) & (df['tot_value_retirement_plans'] < 15000)] = 2\n",
    "df['tot_value_retirement_plans'].loc[(df['tot_value_retirement_plans'] >= 15000) & (df['tot_value_retirement_plans'] < 30000)] = 3\n",
    "df['tot_value_retirement_plans'].loc[(df['tot_value_retirement_plans'] >= 30000) & (df['tot_value_retirement_plans'] < 50000)] = 4\n",
    "df['tot_value_retirement_plans'].loc[(df['tot_value_retirement_plans'] >= 50000) & (df['tot_value_retirement_plans'] < 150000)] = 5\n",
    "df['tot_value_retirement_plans'].loc[df['tot_value_retirement_plans'] >= 150000] = 6"
   ]
  },
  {
   "cell_type": "code",
   "execution_count": 62,
   "id": "1b884b7a",
   "metadata": {},
   "outputs": [
    {
     "data": {
      "image/png": "[encoded data removed]",
      "text/plain": [
       "<Figure size 720x360 with 1 Axes>"
      ]
     },
     "metadata": {
      "needs_background": "light"
     },
     "output_type": "display_data"
    },
    {
     "name": "stdout",
     "output_type": "stream",
     "text": [
      "MAX: \n",
      " tot_value_retirement_plans       6.0\n",
      "appearances                   4924.0\n",
      "dtype: float64 \n",
      "\n",
      "MIN: \n",
      " tot_value_retirement_plans      1.0\n",
      "appearances                   131.0\n",
      "dtype: float64 \n",
      "\n"
     ]
    }
   ],
   "source": [
    "plot_distribution('tot_value_retirement_plans')"
   ]
  },
  {
   "cell_type": "markdown",
   "id": "dd0799c9",
   "metadata": {},
   "source": [
    "# *tot_income_month*"
   ]
  },
  {
   "cell_type": "code",
   "execution_count": 63,
   "id": "55a17ad2",
   "metadata": {},
   "outputs": [
    {
     "data": {
      "text/plain": [
       "count     6413.000000\n",
       "mean      1715.329955\n",
       "std       2935.584894\n",
       "min          0.000000\n",
       "25%        564.000000\n",
       "50%       1300.000000\n",
       "75%       2293.000000\n",
       "max      90000.000000\n",
       "Name: tot_income_month, dtype: float64"
      ]
     },
     "execution_count": 63,
     "metadata": {},
     "output_type": "execute_result"
    }
   ],
   "source": [
    "df['tot_income_month'].describe()"
   ]
  },
  {
   "cell_type": "code",
   "execution_count": 64,
   "id": "35187d60",
   "metadata": {},
   "outputs": [],
   "source": [
    "df['tot_income_month'].loc[df['tot_income_month'] == 0] = 0\n",
    "df['tot_income_month'].loc[(df['tot_income_month'] > 0) & (df['tot_income_month'] < 500)] = 1\n",
    "df['tot_income_month'].loc[(df['tot_income_month'] >= 500) & (df['tot_income_month'] < 1000)] = 2\n",
    "df['tot_income_month'].loc[(df['tot_income_month'] >= 1000) & (df['tot_income_month'] <= 1500)] = 3\n",
    "df['tot_income_month'].loc[(df['tot_income_month'] > 1500) & (df['tot_income_month'] < 2000)] = 4\n",
    "df['tot_income_month'].loc[(df['tot_income_month'] >= 2000) & (df['tot_income_month'] < 3000)] = 5\n",
    "df['tot_income_month'].loc[df['tot_income_month'] >= 3000] = 6"
   ]
  },
  {
   "cell_type": "code",
   "execution_count": 65,
   "id": "5136859c",
   "metadata": {},
   "outputs": [
    {
     "data": {
      "image/png": "[encoded data removed]",
      "text/plain": [
       "<Figure size 720x360 with 1 Axes>"
      ]
     },
     "metadata": {
      "needs_background": "light"
     },
     "output_type": "display_data"
    },
    {
     "name": "stdout",
     "output_type": "stream",
     "text": [
      "MAX: \n",
      " tot_income_month       6.0\n",
      "appearances         1302.0\n",
      "dtype: float64 \n",
      "\n",
      "MIN: \n",
      " tot_income_month      0.0\n",
      "appearances         241.0\n",
      "dtype: float64 \n",
      "\n"
     ]
    }
   ],
   "source": [
    "plot_distribution('tot_income_month')"
   ]
  },
  {
   "cell_type": "markdown",
   "id": "30f57033",
   "metadata": {},
   "source": [
    "# *tot_loans_rest*"
   ]
  },
  {
   "cell_type": "code",
   "execution_count": 66,
   "id": "c66e005d",
   "metadata": {},
   "outputs": [
    {
     "data": {
      "text/plain": [
       "count    6.413000e+03\n",
       "mean     3.389665e+04\n",
       "std      1.710698e+05\n",
       "min      0.000000e+00\n",
       "25%      0.000000e+00\n",
       "50%      0.000000e+00\n",
       "75%      1.531800e+04\n",
       "max      6.689426e+06\n",
       "Name: tot_loans_rest, dtype: float64"
      ]
     },
     "execution_count": 66,
     "metadata": {},
     "output_type": "execute_result"
    }
   ],
   "source": [
    "df['tot_loans_rest'].describe()"
   ]
  },
  {
   "cell_type": "code",
   "execution_count": 67,
   "id": "a11d9622",
   "metadata": {},
   "outputs": [],
   "source": [
    "df['tot_loans_rest'].loc[df['tot_loans_rest'] == 0] = 0\n",
    "df['tot_loans_rest'].loc[(df['tot_loans_rest'] > 0) & (df['tot_loans_rest'] < 50000)] = 1\n",
    "df['tot_loans_rest'].loc[(df['tot_loans_rest'] >= 50000) & (df['tot_loans_rest'] < 100000)] = 2\n",
    "df['tot_loans_rest'].loc[(df['tot_loans_rest'] >= 100000) & (df['tot_loans_rest'] < 200000)] = 3\n",
    "df['tot_loans_rest'].loc[df['tot_loans_rest'] >= 200000] = 4"
   ]
  },
  {
   "cell_type": "code",
   "execution_count": 68,
   "id": "5fcc2a46",
   "metadata": {},
   "outputs": [
    {
     "data": {
      "image/png": "[encoded data removed]",
      "text/plain": [
       "<Figure size 720x360 with 1 Axes>"
      ]
     },
     "metadata": {
      "needs_background": "light"
     },
     "output_type": "display_data"
    },
    {
     "name": "stdout",
     "output_type": "stream",
     "text": [
      "MAX: \n",
      " tot_loans_rest       4.0\n",
      "appearances       3864.0\n",
      "dtype: float64 \n",
      "\n",
      "MIN: \n",
      " tot_loans_rest      0.0\n",
      "appearances       196.0\n",
      "dtype: float64 \n",
      "\n"
     ]
    }
   ],
   "source": [
    "plot_distribution('tot_loans_rest')"
   ]
  },
  {
   "cell_type": "code",
   "execution_count": 69,
   "id": "aae30caf",
   "metadata": {},
   "outputs": [
    {
     "data": {
      "text/plain": [
       "count    6.413000e+03\n",
       "mean     4.455810e+04\n",
       "std      2.568807e+05\n",
       "min      0.000000e+00\n",
       "25%      1.500000e+03\n",
       "50%      8.000000e+03\n",
       "75%      3.000000e+04\n",
       "max      1.500000e+07\n",
       "Name: tot_amm_acc, dtype: float64"
      ]
     },
     "execution_count": 69,
     "metadata": {},
     "output_type": "execute_result"
    }
   ],
   "source": [
    "df['tot_amm_acc'].describe()"
   ]
  },
  {
   "cell_type": "code",
   "execution_count": 70,
   "id": "18c70e5b",
   "metadata": {},
   "outputs": [],
   "source": [
    "df['tot_amm_acc'].loc[df['tot_amm_acc'] == 0] = 0\n",
    "df['tot_amm_acc'].loc[(df['tot_amm_acc'] > 0) & (df['tot_amm_acc'] < 5000)] = 1\n",
    "df['tot_amm_acc'].loc[(df['tot_amm_acc'] >= 5000) & (df['tot_amm_acc'] < 10000)] = 2\n",
    "df['tot_amm_acc'].loc[(df['tot_amm_acc'] >= 10000) & (df['tot_amm_acc'] < 50000)] = 3\n",
    "df['tot_amm_acc'].loc[(df['tot_amm_acc'] >= 50000) & (df['tot_amm_acc'] < 100000)] = 4\n",
    "df['tot_amm_acc'].loc[df['tot_amm_acc'] >= 100000] = 5"
   ]
  },
  {
   "cell_type": "code",
   "execution_count": 71,
   "id": "afb38437",
   "metadata": {},
   "outputs": [
    {
     "data": {
      "image/png": "[encoded data removed]",
      "text/plain": [
       "<Figure size 720x360 with 1 Axes>"
      ]
     },
     "metadata": {
      "needs_background": "light"
     },
     "output_type": "display_data"
    },
    {
     "name": "stdout",
     "output_type": "stream",
     "text": [
      "MAX: \n",
      " tot_amm_acc       5.0\n",
      "appearances    2327.0\n",
      "dtype: float64 \n",
      "\n",
      "MIN: \n",
      " tot_amm_acc      0.0\n",
      "appearances    241.0\n",
      "dtype: float64 \n",
      "\n"
     ]
    }
   ],
   "source": [
    "plot_distribution('tot_amm_acc')"
   ]
  },
  {
   "cell_type": "markdown",
   "id": "bd13990d",
   "metadata": {},
   "source": [
    "# *port_inv_val*"
   ]
  },
  {
   "cell_type": "code",
   "execution_count": 72,
   "id": "89bf18dd",
   "metadata": {},
   "outputs": [
    {
     "data": {
      "text/plain": [
       "count    6.413000e+03\n",
       "mean     4.333574e+05\n",
       "std      6.968526e+06\n",
       "min      0.000000e+00\n",
       "25%      0.000000e+00\n",
       "50%      0.000000e+00\n",
       "75%      3.700000e+04\n",
       "max      3.760000e+08\n",
       "Name: port_inv_val, dtype: float64"
      ]
     },
     "execution_count": 72,
     "metadata": {},
     "output_type": "execute_result"
    }
   ],
   "source": [
    "df['port_inv_val'].describe()"
   ]
  },
  {
   "cell_type": "code",
   "execution_count": 73,
   "id": "83b1f3f7",
   "metadata": {},
   "outputs": [],
   "source": [
    "df['port_inv_val'].loc[df['port_inv_val'] == 0] = 0\n",
    "df['port_inv_val'].loc[(df['port_inv_val'] > 0) & (df['port_inv_val'] < 10000)] = 1\n",
    "df['port_inv_val'].loc[(df['port_inv_val'] >= 10000) & (df['port_inv_val'] < 50000)] = 2\n",
    "df['port_inv_val'].loc[(df['port_inv_val'] >= 50000) & (df['port_inv_val'] < 150000)] = 3\n",
    "df['port_inv_val'].loc[(df['port_inv_val'] >= 150000) & (df['port_inv_val'] < 300000)] = 4\n",
    "df['port_inv_val'].loc[(df['port_inv_val'] >= 300000) & (df['port_inv_val'] < 500000)] = 5\n",
    "df['port_inv_val'].loc[df['port_inv_val'] >= 500000] = 6"
   ]
  },
  {
   "cell_type": "code",
   "execution_count": 74,
   "id": "b912c7b0",
   "metadata": {},
   "outputs": [
    {
     "data": {
      "image/png": "[encoded data removed]",
      "text/plain": [
       "<Figure size 720x360 with 1 Axes>"
      ]
     },
     "metadata": {
      "needs_background": "light"
     },
     "output_type": "display_data"
    },
    {
     "name": "stdout",
     "output_type": "stream",
     "text": [
      "MAX: \n",
      " port_inv_val       6.0\n",
      "appearances     4120.0\n",
      "dtype: float64 \n",
      "\n",
      "MIN: \n",
      " port_inv_val      0.0\n",
      "appearances     179.0\n",
      "dtype: float64 \n",
      "\n"
     ]
    }
   ],
   "source": [
    "plot_distribution('port_inv_val')"
   ]
  },
  {
   "cell_type": "markdown",
   "id": "b5c69403",
   "metadata": {},
   "source": [
    "# *ann_inv_income*"
   ]
  },
  {
   "cell_type": "code",
   "execution_count": 75,
   "id": "ed766693",
   "metadata": {},
   "outputs": [
    {
     "data": {
      "text/plain": [
       "count    6.413000e+03\n",
       "mean     9.034366e+03\n",
       "std      2.222844e+05\n",
       "min      0.000000e+00\n",
       "25%      0.000000e+00\n",
       "50%      0.000000e+00\n",
       "75%      0.000000e+00\n",
       "max      1.260000e+07\n",
       "Name: ann_inv_income, dtype: float64"
      ]
     },
     "execution_count": 75,
     "metadata": {},
     "output_type": "execute_result"
    }
   ],
   "source": [
    "df['ann_inv_income'].describe()"
   ]
  },
  {
   "cell_type": "code",
   "execution_count": 76,
   "id": "3dd00dd8",
   "metadata": {},
   "outputs": [],
   "source": [
    "df['ann_inv_income'].loc[df['ann_inv_income'] == 0] = 0\n",
    "df['ann_inv_income'].loc[(df['ann_inv_income'] > 0) & (df['ann_inv_income'] < 10000)] = 1\n",
    "df['ann_inv_income'].loc[(df['ann_inv_income'] >= 10000) & (df['ann_inv_income'] < 50000)] = 2\n",
    "df['ann_inv_income'].loc[df['ann_inv_income'] >= 50000] = 3"
   ]
  },
  {
   "cell_type": "code",
   "execution_count": 77,
   "id": "2a8c4628",
   "metadata": {},
   "outputs": [
    {
     "data": {
      "image/png": "[encoded data removed]",
      "text/plain": [
       "<Figure size 720x360 with 1 Axes>"
      ]
     },
     "metadata": {
      "needs_background": "light"
     },
     "output_type": "display_data"
    },
    {
     "name": "stdout",
     "output_type": "stream",
     "text": [
      "MAX: \n",
      " ann_inv_income       3.0\n",
      "appearances       4832.0\n",
      "dtype: float64 \n",
      "\n",
      "MIN: \n",
      " ann_inv_income      0.0\n",
      "appearances       113.0\n",
      "dtype: float64 \n",
      "\n"
     ]
    }
   ],
   "source": [
    "plot_distribution('ann_inv_income')"
   ]
  },
  {
   "cell_type": "markdown",
   "id": "12901dfe",
   "metadata": {},
   "source": [
    "# *monthly_expenses*"
   ]
  },
  {
   "cell_type": "code",
   "execution_count": 78,
   "id": "82c5eea6",
   "metadata": {},
   "outputs": [
    {
     "data": {
      "text/plain": [
       "count     6413.000000\n",
       "mean      1851.200073\n",
       "std       1937.142293\n",
       "min         64.000000\n",
       "25%        900.000000\n",
       "50%       1360.000000\n",
       "75%       2100.000000\n",
       "max      36442.000000\n",
       "Name: monthly_expenses, dtype: float64"
      ]
     },
     "execution_count": 78,
     "metadata": {},
     "output_type": "execute_result"
    }
   ],
   "source": [
    "df['monthly_expenses'].describe()"
   ]
  },
  {
   "cell_type": "code",
   "execution_count": 79,
   "id": "2a1c7d5b",
   "metadata": {},
   "outputs": [],
   "source": [
    "df['monthly_expenses'].loc[df['monthly_expenses'] <= 500] = 1\n",
    "df['monthly_expenses'].loc[(df['monthly_expenses'] > 500) & (df['monthly_expenses'] < 1000)] = 2\n",
    "df['monthly_expenses'].loc[(df['monthly_expenses'] >= 1000) & (df['monthly_expenses'] < 2000)] = 3\n",
    "df['monthly_expenses'].loc[(df['monthly_expenses'] >= 2000) & (df['monthly_expenses'] < 3000)] = 4\n",
    "df['monthly_expenses'].loc[(df['monthly_expenses'] >= 3000) & (df['monthly_expenses'] < 4000)] = 5\n",
    "df['monthly_expenses'].loc[df['monthly_expenses'] >= 4000] = 6"
   ]
  },
  {
   "cell_type": "code",
   "execution_count": 80,
   "id": "a5b16864",
   "metadata": {},
   "outputs": [
    {
     "data": {
      "image/png": "[encoded data removed]",
      "text/plain": [
       "<Figure size 720x360 with 1 Axes>"
      ]
     },
     "metadata": {
      "needs_background": "light"
     },
     "output_type": "display_data"
    },
    {
     "name": "stdout",
     "output_type": "stream",
     "text": [
      "MAX: \n",
      " monthly_expenses       6.0\n",
      "appearances         2630.0\n",
      "dtype: float64 \n",
      "\n",
      "MIN: \n",
      " monthly_expenses      1.0\n",
      "appearances         394.0\n",
      "dtype: float64 \n",
      "\n"
     ]
    }
   ],
   "source": [
    "plot_distribution('monthly_expenses')"
   ]
  },
  {
   "cell_type": "code",
   "execution_count": 81,
   "id": "4fa0aee9",
   "metadata": {},
   "outputs": [
    {
     "data": {
      "text/html": [
       "<div>\n",
       "<style scoped>\n",
       "    .dataframe tbody tr th:only-of-type {\n",
       "        vertical-align: middle;\n",
       "    }\n",
       "\n",
       "    .dataframe tbody tr th {\n",
       "        vertical-align: top;\n",
       "    }\n",
       "\n",
       "    .dataframe thead th {\n",
       "        text-align: right;\n",
       "    }\n",
       "</style>\n",
       "<table border=\"1\" class=\"dataframe\">\n",
       "  <thead>\n",
       "    <tr style=\"text-align: right;\">\n",
       "      <th></th>\n",
       "      <th>age</th>\n",
       "      <th>married</th>\n",
       "      <th>education</th>\n",
       "      <th>value_main_house</th>\n",
       "      <th>future_expenses</th>\n",
       "      <th>%_spend_future_win</th>\n",
       "      <th>risk</th>\n",
       "      <th>tot_amm_year_retirement_plans</th>\n",
       "      <th>tot_value_retirement_plans</th>\n",
       "      <th>tot_income_month</th>\n",
       "      <th>tot_loans_rest</th>\n",
       "      <th>tot_amm_acc</th>\n",
       "      <th>port_inv_val</th>\n",
       "      <th>ann_inv_income</th>\n",
       "      <th>monthly_expenses</th>\n",
       "    </tr>\n",
       "  </thead>\n",
       "  <tbody>\n",
       "    <tr>\n",
       "      <th>count</th>\n",
       "      <td>6413.000000</td>\n",
       "      <td>6413.000000</td>\n",
       "      <td>6413.000000</td>\n",
       "      <td>6413.000000</td>\n",
       "      <td>6413.000000</td>\n",
       "      <td>6413.000000</td>\n",
       "      <td>6413.000000</td>\n",
       "      <td>6413.000000</td>\n",
       "      <td>6413.000000</td>\n",
       "      <td>6413.000000</td>\n",
       "      <td>6413.000000</td>\n",
       "      <td>6413.000000</td>\n",
       "      <td>6413.000000</td>\n",
       "      <td>6413.000000</td>\n",
       "      <td>6413.000000</td>\n",
       "    </tr>\n",
       "    <tr>\n",
       "      <th>mean</th>\n",
       "      <td>5.002807</td>\n",
       "      <td>2.606424</td>\n",
       "      <td>6.689069</td>\n",
       "      <td>3.018088</td>\n",
       "      <td>2.110245</td>\n",
       "      <td>3.056760</td>\n",
       "      <td>3.717449</td>\n",
       "      <td>1.228598</td>\n",
       "      <td>2.991424</td>\n",
       "      <td>3.036177</td>\n",
       "      <td>0.687354</td>\n",
       "      <td>2.302043</td>\n",
       "      <td>1.279588</td>\n",
       "      <td>0.327148</td>\n",
       "      <td>3.147825</td>\n",
       "    </tr>\n",
       "    <tr>\n",
       "      <th>std</th>\n",
       "      <td>1.465019</td>\n",
       "      <td>1.561917</td>\n",
       "      <td>3.680257</td>\n",
       "      <td>1.922058</td>\n",
       "      <td>0.932957</td>\n",
       "      <td>1.647288</td>\n",
       "      <td>0.554854</td>\n",
       "      <td>1.066041</td>\n",
       "      <td>0.860744</td>\n",
       "      <td>2.033009</td>\n",
       "      <td>1.051107</td>\n",
       "      <td>1.372346</td>\n",
       "      <td>2.021242</td>\n",
       "      <td>0.645494</td>\n",
       "      <td>1.256416</td>\n",
       "    </tr>\n",
       "    <tr>\n",
       "      <th>min</th>\n",
       "      <td>1.000000</td>\n",
       "      <td>1.000000</td>\n",
       "      <td>1.000000</td>\n",
       "      <td>0.000000</td>\n",
       "      <td>1.000000</td>\n",
       "      <td>1.000000</td>\n",
       "      <td>1.000000</td>\n",
       "      <td>0.000000</td>\n",
       "      <td>1.000000</td>\n",
       "      <td>0.000000</td>\n",
       "      <td>0.000000</td>\n",
       "      <td>0.000000</td>\n",
       "      <td>0.000000</td>\n",
       "      <td>0.000000</td>\n",
       "      <td>1.000000</td>\n",
       "    </tr>\n",
       "    <tr>\n",
       "      <th>25%</th>\n",
       "      <td>4.000000</td>\n",
       "      <td>2.000000</td>\n",
       "      <td>3.000000</td>\n",
       "      <td>2.000000</td>\n",
       "      <td>1.000000</td>\n",
       "      <td>1.000000</td>\n",
       "      <td>4.000000</td>\n",
       "      <td>1.000000</td>\n",
       "      <td>3.000000</td>\n",
       "      <td>2.000000</td>\n",
       "      <td>0.000000</td>\n",
       "      <td>1.000000</td>\n",
       "      <td>0.000000</td>\n",
       "      <td>0.000000</td>\n",
       "      <td>2.000000</td>\n",
       "    </tr>\n",
       "    <tr>\n",
       "      <th>50%</th>\n",
       "      <td>5.000000</td>\n",
       "      <td>2.000000</td>\n",
       "      <td>6.000000</td>\n",
       "      <td>3.000000</td>\n",
       "      <td>2.000000</td>\n",
       "      <td>4.000000</td>\n",
       "      <td>4.000000</td>\n",
       "      <td>1.000000</td>\n",
       "      <td>3.000000</td>\n",
       "      <td>3.000000</td>\n",
       "      <td>0.000000</td>\n",
       "      <td>2.000000</td>\n",
       "      <td>0.000000</td>\n",
       "      <td>0.000000</td>\n",
       "      <td>3.000000</td>\n",
       "    </tr>\n",
       "    <tr>\n",
       "      <th>75%</th>\n",
       "      <td>6.000000</td>\n",
       "      <td>2.000000</td>\n",
       "      <td>11.000000</td>\n",
       "      <td>5.000000</td>\n",
       "      <td>3.000000</td>\n",
       "      <td>5.000000</td>\n",
       "      <td>4.000000</td>\n",
       "      <td>1.000000</td>\n",
       "      <td>3.000000</td>\n",
       "      <td>5.000000</td>\n",
       "      <td>1.000000</td>\n",
       "      <td>3.000000</td>\n",
       "      <td>2.000000</td>\n",
       "      <td>0.000000</td>\n",
       "      <td>4.000000</td>\n",
       "    </tr>\n",
       "    <tr>\n",
       "      <th>max</th>\n",
       "      <td>7.000000</td>\n",
       "      <td>6.000000</td>\n",
       "      <td>14.000000</td>\n",
       "      <td>6.000000</td>\n",
       "      <td>3.000000</td>\n",
       "      <td>5.000000</td>\n",
       "      <td>4.000000</td>\n",
       "      <td>5.000000</td>\n",
       "      <td>6.000000</td>\n",
       "      <td>6.000000</td>\n",
       "      <td>4.000000</td>\n",
       "      <td>5.000000</td>\n",
       "      <td>6.000000</td>\n",
       "      <td>3.000000</td>\n",
       "      <td>6.000000</td>\n",
       "    </tr>\n",
       "  </tbody>\n",
       "</table>\n",
       "</div>"
      ],
      "text/plain": [
       "               age      married    education  value_main_house  \\\n",
       "count  6413.000000  6413.000000  6413.000000       6413.000000   \n",
       "mean      5.002807     2.606424     6.689069          3.018088   \n",
       "std       1.465019     1.561917     3.680257          1.922058   \n",
       "min       1.000000     1.000000     1.000000          0.000000   \n",
       "25%       4.000000     2.000000     3.000000          2.000000   \n",
       "50%       5.000000     2.000000     6.000000          3.000000   \n",
       "75%       6.000000     2.000000    11.000000          5.000000   \n",
       "max       7.000000     6.000000    14.000000          6.000000   \n",
       "\n",
       "       future_expenses  %_spend_future_win         risk  \\\n",
       "count      6413.000000         6413.000000  6413.000000   \n",
       "mean          2.110245            3.056760     3.717449   \n",
       "std           0.932957            1.647288     0.554854   \n",
       "min           1.000000            1.000000     1.000000   \n",
       "25%           1.000000            1.000000     4.000000   \n",
       "50%           2.000000            4.000000     4.000000   \n",
       "75%           3.000000            5.000000     4.000000   \n",
       "max           3.000000            5.000000     4.000000   \n",
       "\n",
       "       tot_amm_year_retirement_plans  tot_value_retirement_plans  \\\n",
       "count                    6413.000000                 6413.000000   \n",
       "mean                        1.228598                    2.991424   \n",
       "std                         1.066041                    0.860744   \n",
       "min                         0.000000                    1.000000   \n",
       "25%                         1.000000                    3.000000   \n",
       "50%                         1.000000                    3.000000   \n",
       "75%                         1.000000                    3.000000   \n",
       "max                         5.000000                    6.000000   \n",
       "\n",
       "       tot_income_month  tot_loans_rest  tot_amm_acc  port_inv_val  \\\n",
       "count       6413.000000     6413.000000  6413.000000   6413.000000   \n",
       "mean           3.036177        0.687354     2.302043      1.279588   \n",
       "std            2.033009        1.051107     1.372346      2.021242   \n",
       "min            0.000000        0.000000     0.000000      0.000000   \n",
       "25%            2.000000        0.000000     1.000000      0.000000   \n",
       "50%            3.000000        0.000000     2.000000      0.000000   \n",
       "75%            5.000000        1.000000     3.000000      2.000000   \n",
       "max            6.000000        4.000000     5.000000      6.000000   \n",
       "\n",
       "       ann_inv_income  monthly_expenses  \n",
       "count     6413.000000       6413.000000  \n",
       "mean         0.327148          3.147825  \n",
       "std          0.645494          1.256416  \n",
       "min          0.000000          1.000000  \n",
       "25%          0.000000          2.000000  \n",
       "50%          0.000000          3.000000  \n",
       "75%          0.000000          4.000000  \n",
       "max          3.000000          6.000000  "
      ]
     },
     "execution_count": 81,
     "metadata": {},
     "output_type": "execute_result"
    }
   ],
   "source": [
    "df.describe()"
   ]
  },
  {
   "cell_type": "code",
   "execution_count": 82,
   "id": "6728a8c2",
   "metadata": {},
   "outputs": [],
   "source": [
    "os.makedirs('final_dataset', exist_ok=True)  \n",
    "df.to_csv('final_dataset/df_2017_cat.csv', index = False) "
   ]
  }
 ],
 "metadata": {
  "kernelspec": {
   "display_name": "Python 3 (ipykernel)",
   "language": "python",
   "name": "python3"
  },
  "language_info": {
   "codemirror_mode": {
    "name": "ipython",
    "version": 3
   },
   "file_extension": ".py",
   "mimetype": "text/x-python",
   "name": "python",
   "nbconvert_exporter": "python",
   "pygments_lexer": "ipython3",
   "version": "3.9.7"
  }
 },
 "nbformat": 4,
 "nbformat_minor": 5
}
